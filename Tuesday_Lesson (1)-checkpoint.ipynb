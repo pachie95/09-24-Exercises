{
 "cells": [
  {
   "cell_type": "markdown",
   "metadata": {},
   "source": [
    "# Map, Filter, Reduce, Lambda & Recursion"
   ]
  },
  {
   "cell_type": "markdown",
   "metadata": {},
   "source": [
    "## Tasks Today:\n",
    "\n",
    "1) <b>Lambda Functions</b> <br>\n",
    " &nbsp;&nbsp;&nbsp;&nbsp; a) Syntax <br>\n",
    " &nbsp;&nbsp;&nbsp;&nbsp; b) Saving to a Variable <br>\n",
    " &nbsp;&nbsp;&nbsp;&nbsp; c) Multiple Inputs <br>\n",
    " &nbsp;&nbsp;&nbsp;&nbsp; d) Passing a Lambda into a Function <br>\n",
    " &nbsp;&nbsp;&nbsp;&nbsp; e) Returning a Lambda from a Function <br>\n",
    " &nbsp;&nbsp;&nbsp;&nbsp; f) In-Class Exercise #1 <br>\n",
    "2) <b>Map</b> <br>\n",
    " &nbsp;&nbsp;&nbsp;&nbsp; a) Syntax <br>\n",
    " &nbsp;&nbsp;&nbsp;&nbsp; b) Using Lambda's with Map <br>\n",
    " &nbsp;&nbsp;&nbsp;&nbsp; c) In-Class Exercise #2 <br>\n",
    "3) <b>Filter</b> <br>\n",
    " &nbsp;&nbsp;&nbsp;&nbsp; a) Syntax <br>\n",
    " &nbsp;&nbsp;&nbsp;&nbsp; b) Using Lambda's with Filter <br>\n",
    " &nbsp;&nbsp;&nbsp;&nbsp; c) In-Class Exercise #3 <br>\n",
    "4) <b>Reduce</b> <br>\n",
    " &nbsp;&nbsp;&nbsp;&nbsp; a) Syntax <br>\n",
    " &nbsp;&nbsp;&nbsp;&nbsp; b) Using Lambda's with Reduce <br>\n",
    " &nbsp;&nbsp;&nbsp;&nbsp; c) In-Class Exercise #4 <br>\n",
    "5) <b>Recursion</b> <br>\n",
    " &nbsp;&nbsp;&nbsp;&nbsp; a) Implementing a Base <br>\n",
    " &nbsp;&nbsp;&nbsp;&nbsp; b) Writing a Factorial Function <br>\n",
    " &nbsp;&nbsp;&nbsp;&nbsp; c) In-Class Exercise #5 <br>\n",
    "6) <b>Generators & Iterators</b> <br>\n",
    " &nbsp;&nbsp;&nbsp;&nbsp; a) Yield Keyword <br>\n",
    " &nbsp;&nbsp;&nbsp;&nbsp; b) Inifinite Generator <br>\n",
    " &nbsp;&nbsp;&nbsp;&nbsp; c) In-Class Exercise #6 <br>\n",
    "7) <b>Exercises</b> <br>\n",
    " &nbsp;&nbsp;&nbsp;&nbsp; a) Exercise #1 - Filtering Empty Strings <br>\n",
    " &nbsp;&nbsp;&nbsp;&nbsp; b) Exercise #2 - Sorting with Last Name <br>\n",
    " &nbsp;&nbsp;&nbsp;&nbsp; c) Exercise #3 - Conversion to Farhenheit <br>\n",
    " &nbsp;&nbsp;&nbsp;&nbsp; d) Exercise #4 - Fibonacci Sequence <br>"
   ]
  },
  {
   "cell_type": "markdown",
   "metadata": {},
   "source": [
    "## Lambda Functions <br>\n",
    "<p>Lambda functions... or \"Anonymous Functions\" are referring to inline functions with no name. The keyword lambda denotes the no name function, and executes within a single line. Without saving it to a variable; however, it is not able to be used, unless passed in either as a paramater or within list comprehension.<br>Written as \"(keyword lambda) (one or more inputs) (colon) (function to be executed)\"</p>"
   ]
  },
  {
   "cell_type": "markdown",
   "metadata": {},
   "source": [
    "#### Syntax"
   ]
  },
  {
   "cell_type": "code",
   "execution_count": 1,
   "metadata": {},
   "outputs": [
    {
     "data": {
      "text/plain": [
       "4"
      ]
     },
     "execution_count": 1,
     "metadata": {},
     "output_type": "execute_result"
    }
   ],
   "source": [
    "# lambda x: x + 2\n",
    "# (lambda x: x + 2)(4)\n",
    "\n",
    "def addTwo(x):\n",
    "    return x + 2 \n",
    "\n",
    "addTwo(2)\n",
    "\n",
    "#Presentation Code\n",
    "\n",
    "lambda x: x + 2"
   ]
  },
  {
   "cell_type": "markdown",
   "metadata": {},
   "source": [
    "#### Saving to a Variable"
   ]
  },
  {
   "cell_type": "code",
   "execution_count": 2,
   "metadata": {},
   "outputs": [
    {
     "data": {
      "text/plain": [
       "4"
      ]
     },
     "execution_count": 2,
     "metadata": {},
     "output_type": "execute_result"
    }
   ],
   "source": [
    "#Presentation Code\n",
    "add = lambda x: x + 2\n",
    "add(2)"
   ]
  },
  {
   "cell_type": "markdown",
   "metadata": {},
   "source": [
    "#### Multiple Inputs"
   ]
  },
  {
   "cell_type": "code",
   "execution_count": 4,
   "metadata": {},
   "outputs": [
    {
     "data": {
      "text/plain": [
       "8"
      ]
     },
     "execution_count": 4,
     "metadata": {},
     "output_type": "execute_result"
    }
   ],
   "source": [
    "# lambda x, y: x + y\n",
    "\n",
    "# (lambda x, y: x + y)(3, 5)\n",
    "\n",
    "#Presentation Code\n",
    "(lambda x,y: x+y)(3,5)"
   ]
  },
  {
   "cell_type": "markdown",
   "metadata": {},
   "source": [
    "#### Passing a Lambda into a Function"
   ]
  },
  {
   "cell_type": "code",
   "execution_count": 9,
   "metadata": {},
   "outputs": [
    {
     "data": {
      "text/plain": [
       "2.2"
      ]
     },
     "execution_count": 9,
     "metadata": {},
     "output_type": "execute_result"
    }
   ],
   "source": [
    "# my_func(f, num)\n",
    "\n",
    "# accepting a single function and returning the result of f(num)\n",
    "\n",
    "#Presentation Code\n",
    "def multiply(f,num): \n",
    "    \"\"\"Our Parameter string will use a lambda function and a number\"\"\"\n",
    "    return f(num)\n",
    "\n",
    "# multiply(lambda x:x * x, 4)\n",
    "\n",
    "def divide(d,num1, num2):\n",
    "    return d(num1, num2)\n",
    "\n",
    "divide(lambda s,y: s / y,4.4,2)\n",
    "\n",
    "# accepting multiple functions, and returning the result of a function within a function\n",
    "# functions inside execute first, works it's way out\n",
    "# other_func(f, lamb, num)\n",
    "\n",
    "#Presentation Code"
   ]
  },
  {
   "cell_type": "markdown",
   "metadata": {},
   "source": [
    "#### Returning a Lambda from a Function"
   ]
  },
  {
   "cell_type": "code",
   "execution_count": 14,
   "metadata": {},
   "outputs": [
    {
     "name": "stdout",
     "output_type": "stream",
     "text": [
      "Nothing should happen here... <function returnLamb at 0x0000019C8C71CD90>\n",
      "This should have a result... 20\n"
     ]
    }
   ],
   "source": [
    "# return lambda x: x + a + b + c\n",
    "\n",
    "#Presentation Code\n",
    "def returnFunc():\n",
    "    def multiply(num):\n",
    "        return num * 2\n",
    "    return multiply \n",
    "\n",
    "# f = returnFunc()\n",
    "# print(f(4))\n",
    "\n",
    "\n",
    "#Presentation Code\n",
    "def returnLamb(b,c):\n",
    "    return lambda x, a: x + a + b + c\n",
    "\n",
    "r = returnLamb\n",
    "print(\"Nothing should happen here...\",r)\n",
    "\n",
    "t = returnLamb(4,5)  # Must add paranthesis to return a function\n",
    "print(\"This should have a result...\", t(1,10)) # The (1,10) represent the x and the a variable\n",
    "\n",
    "\n",
    "# calling without parens will not run code inside, so return won't be run\n",
    "#Presentation Code\n",
    "\n",
    "\n",
    "# to return function must call outer function with parens\n",
    "#Presentation Code"
   ]
  },
  {
   "cell_type": "markdown",
   "metadata": {},
   "source": [
    "#### If Statements within Lambdas"
   ]
  },
  {
   "cell_type": "code",
   "execution_count": 16,
   "metadata": {},
   "outputs": [
    {
     "name": "stdout",
     "output_type": "stream",
     "text": [
      "24\n",
      "10\n"
     ]
    }
   ],
   "source": [
    "# lambda x: True if (condition) else False\n",
    "\n",
    "#Presentation Code\n",
    "v = lambda num: num * 2 if num > 10 else num + 2\n",
    "print(v(12))\n",
    "print(v(8))"
   ]
  },
  {
   "cell_type": "markdown",
   "metadata": {},
   "source": [
    "#### In-Class Exercise #1 <br>\n",
    "<p>Write an anonymous function that cubes the arguments passed in and assign the anonymous function to a variable 'f'.</p>"
   ]
  },
  {
   "cell_type": "code",
   "execution_count": 17,
   "metadata": {},
   "outputs": [
    {
     "data": {
      "text/plain": [
       "27"
      ]
     },
     "execution_count": 17,
     "metadata": {},
     "output_type": "execute_result"
    }
   ],
   "source": [
    "f = lambda x : x ** 3\n",
    "\n",
    "f(3)"
   ]
  },
  {
   "cell_type": "markdown",
   "metadata": {},
   "source": [
    "## Map <br>\n",
    "<p>The map function allows you to iterate over an entire list while running a function on each item of the list. This is why the map function works well with lambda's, because it simplifies things and you write less lines of code.<br>The syntax for a map function is \"map(function to be used, list to be used)\"<br>However, you must be careful, as the map function returns a map object, not a list. To turn it into a list we use the list() type conversion.</p>"
   ]
  },
  {
   "cell_type": "markdown",
   "metadata": {},
   "source": [
    "#### Syntax"
   ]
  },
  {
   "cell_type": "code",
   "execution_count": 29,
   "metadata": {},
   "outputs": [
    {
     "name": "stdout",
     "output_type": "stream",
     "text": [
      "[(16, 16), (11, 10), (20, 3), (9, 4), (15, 6)]\n"
     ]
    }
   ],
   "source": [
    "# map(func, list)\n",
    "# using a pre-defined function\n",
    "\n",
    "#Presentation Code \n",
    "\n",
    "def squared(num,num1):\n",
    "    if num < 10:\n",
    "        return num ** 2, num1 ** 2\n",
    "    else: \n",
    "        return num, num1\n",
    "    \n",
    "numbers = [4,11,20,3,15,5]\n",
    "more_nums = [4,10,3,2,6]\n",
    "\n",
    "squared_nums = list(map(squared,numbers,more_nums)) # must use it within a list first to have the map object show up\n",
    "print(squared_nums)\n",
    "\n",
    "# help(map)"
   ]
  },
  {
   "cell_type": "markdown",
   "metadata": {},
   "source": [
    "#### Using Lambda's with Map"
   ]
  },
  {
   "cell_type": "code",
   "execution_count": 30,
   "metadata": {},
   "outputs": [
    {
     "data": {
      "text/plain": [
       "[16, 11, 20, 9, 15, 25]"
      ]
     },
     "execution_count": 30,
     "metadata": {},
     "output_type": "execute_result"
    }
   ],
   "source": [
    "# map(lambda x: x + 2, list)\n",
    "# using lambdas in line\n",
    "# list(map(lambda x: x * 2, nums))\n",
    "\n",
    "#Presentation Code\n",
    "squared_nums = list(map(lambda x: x ** 2 if x < 10 else x,numbers))\n",
    "squared_nums"
   ]
  },
  {
   "cell_type": "markdown",
   "metadata": {},
   "source": [
    "#### In-Class Exercise #2 <br>\n",
    "<p>Use the map function to double each number and minus it by one in the list by using a lambda function</p>"
   ]
  },
  {
   "cell_type": "code",
   "execution_count": 31,
   "metadata": {},
   "outputs": [
    {
     "data": {
      "text/plain": [
       "[7, 3, 11, 15]"
      ]
     },
     "execution_count": 31,
     "metadata": {},
     "output_type": "execute_result"
    }
   ],
   "source": [
    "# result should look like [7, 3, 11, 15]\n",
    "\n",
    "nums = [4,2,6,8]\n",
    "multiply_nums = list(map(lambda x: (x * 2) - 1,nums))\n",
    "multiply_nums"
   ]
  },
  {
   "cell_type": "markdown",
   "metadata": {},
   "source": [
    "## Filter() <br>\n",
    "<p>Filter's are similar to the map function, where you're able to pass a function argument and a list argument and filter out something from the list based on the conditions passed. Similar to the map function, it returns a filter object, so you need to type convert it to a list()</p>"
   ]
  },
  {
   "cell_type": "markdown",
   "metadata": {},
   "source": [
    "#### Syntax"
   ]
  },
  {
   "cell_type": "code",
   "execution_count": 32,
   "metadata": {},
   "outputs": [
    {
     "name": "stdout",
     "output_type": "stream",
     "text": [
      "['Andy', 'Angelica']\n"
     ]
    }
   ],
   "source": [
    "# generally map and filter are used on lists; however, they can also be used on anything that is iterable\n",
    "# such as tuples, sets, frozensets\n",
    "\n",
    "# filter(func, list)\n",
    "\n",
    "#Presentation Code\n",
    "names = [\"Bob\", \"Andy\", \"Max\", \"Evan\", \"Angelica\"]\n",
    "\n",
    "# filter doesn't alter original list, it returns a filter object, you need to convert it yourself to a list\n",
    "# write a functino to check if name begins with 'A'\n",
    "\n",
    "def a_names(name):\n",
    "    if name[0].lower() == \"a\":\n",
    "        return True\n",
    "    else:\n",
    "        return False\n",
    "    \n",
    "#Presentation Code\n",
    "new_names = list(filter(a_names,names)) #[False,True,False,False,True] ; must use the list function\n",
    "print(new_names)"
   ]
  },
  {
   "cell_type": "markdown",
   "metadata": {},
   "source": [
    "#### Using Lambda's with Filter()"
   ]
  },
  {
   "cell_type": "code",
   "execution_count": 34,
   "metadata": {},
   "outputs": [
    {
     "data": {
      "text/plain": [
       "['Andy', 'Angelica']"
      ]
     },
     "execution_count": 34,
     "metadata": {},
     "output_type": "execute_result"
    }
   ],
   "source": [
    "# filter(lambda, list)\n",
    "\n",
    "# list(filter(lambda name: True if len(name) >= 4 else False, names))\n",
    "\n",
    "#Presentation Code\n",
    "\n",
    "new_names = list(filter(lambda name: True if name[0].lower() == \"a\" else False, names))\n",
    "new_names"
   ]
  },
  {
   "cell_type": "markdown",
   "metadata": {},
   "source": [
    "#### In-Class Exercise #3 <br>\n",
    "<p>Filter out all the numbers that are below the mean of the list.<br><b>Hint: Import the 'statistics' module</b></p>"
   ]
  },
  {
   "cell_type": "code",
   "execution_count": 46,
   "metadata": {},
   "outputs": [
    {
     "name": "stdout",
     "output_type": "stream",
     "text": [
      "4.728571428571429\n"
     ]
    },
    {
     "data": {
      "text/plain": [
       "[2, 4.2, 1.6, 4.4]"
      ]
     },
     "execution_count": 46,
     "metadata": {},
     "output_type": "execute_result"
    }
   ],
   "source": [
    "#Presentation Code\n",
    "# output should be [2, 4.2, 1.6, 4.4]\n",
    "import statistics\n",
    "\n",
    "nums = [2,7,4.2,1.6,9,4.4,4.9]\n",
    "x = statistics.mean(nums)\n",
    "print(x)\n",
    "\n",
    "new_nums = list(filter(lambda num: True if num < 4.72 else False, nums))\n",
    "new_nums\n"
   ]
  },
  {
   "cell_type": "markdown",
   "metadata": {},
   "source": [
    "## Reduce() <br>\n",
    "<p>Be very careful when using this function, as of Python 3 it's been moved to the 'functools' library and no longer is a built-in function.<br>The creator of Python himself, says to just use a for loop instead.</p>"
   ]
  },
  {
   "cell_type": "markdown",
   "metadata": {},
   "source": [
    "#### Syntax"
   ]
  },
  {
   "cell_type": "code",
   "execution_count": 47,
   "metadata": {},
   "outputs": [
    {
     "name": "stdout",
     "output_type": "stream",
     "text": [
      "-13\n"
     ]
    }
   ],
   "source": [
    "from functools import reduce\n",
    "# reduce(func, list)\n",
    "\n",
    "#Presentation Code\n",
    "\n",
    "# Not necessarily subtraction, but rather reducing your list into one value through whichever method you choose \n",
    "\n",
    "l_1 = [1,2,3,4,5]\n",
    "\n",
    "def subtractNums(num1,num2):\n",
    "    return num1 - num2\n",
    "\n",
    "result = reduce(subtractNums, l_1)\n",
    "print(result)\n",
    "\n",
    "# use for loop below instead to calculate sum of list, rather than reduce which may cause errors\n",
    "# reduce functions passed in must accept two parameters\n",
    "\n",
    "\n",
    "#Presentation Code"
   ]
  },
  {
   "cell_type": "markdown",
   "metadata": {},
   "source": [
    "#### Using Lambda's with Reduce()"
   ]
  },
  {
   "cell_type": "code",
   "execution_count": 48,
   "metadata": {},
   "outputs": [
    {
     "data": {
      "text/plain": [
       "15"
      ]
     },
     "execution_count": 48,
     "metadata": {},
     "output_type": "execute_result"
    }
   ],
   "source": [
    "#Presentation Code\n",
    "result = reduce(lambda x,y: x + y, l_1)\n",
    "result"
   ]
  },
  {
   "cell_type": "markdown",
   "metadata": {},
   "source": [
    "#### In-Class Exercise #4 <br>\n",
    "<p>Use the reduce function to multiply the numbers in the list below together with a lambda function.</p>"
   ]
  },
  {
   "cell_type": "code",
   "execution_count": 49,
   "metadata": {},
   "outputs": [
    {
     "data": {
      "text/plain": [
       "24"
      ]
     },
     "execution_count": 49,
     "metadata": {},
     "output_type": "execute_result"
    }
   ],
   "source": [
    "#Presentation Code\n",
    "# output should be 24\n",
    "\n",
    "my_list = [1,2,3,4]\n",
    "result = reduce(lambda x,y: x*y, my_list)\n",
    "result\n",
    "\n",
    "#Presentation Code"
   ]
  },
  {
   "cell_type": "markdown",
   "metadata": {},
   "source": [
    "## Recursion <br>\n",
    "<p>Recursion means that a function is calling itself, so it contanstly executes until a base case is reached. It will then push the returning values back up the chain until the function is complete. A prime example of recursion is computing factorials... such that 5! (factorial) is 5*4*3*2*1 which equals 120.</p>"
   ]
  },
  {
   "cell_type": "markdown",
   "metadata": {},
   "source": [
    "#### Implementing a Base Case"
   ]
  },
  {
   "cell_type": "code",
   "execution_count": 57,
   "metadata": {},
   "outputs": [
    {
     "name": "stdout",
     "output_type": "stream",
     "text": [
      "addNums(5) = 5 + addNums(4)\n",
      "addNums(4) = 4 + addNums(3)\n",
      "addNums(3) = 3 + addNums(2)\n",
      "addNums(2) = 2 + addNums(1)\n",
      "addNums(1) = 1\n"
     ]
    },
    {
     "data": {
      "text/plain": [
       "15"
      ]
     },
     "execution_count": 57,
     "metadata": {},
     "output_type": "execute_result"
    }
   ],
   "source": [
    "# must always have a base case, otherwise it will infinitely loop\n",
    "\n",
    "#Presentation Code\n",
    "def addNums(num):\n",
    "    # Set Base Case here -- This is where the recursion will stop\n",
    "    if num <= 1:\n",
    "        print(\"addNums(1) = 1\")\n",
    "        return num\n",
    "    else:\n",
    "        print(\"addNums({}) = {} + addNums({})\".format(num,num,num-1))\n",
    "        return num + addNums(num-1)\n",
    "addNums(5)\n",
    "    \n",
    "    \n",
    "\n",
    "# addNums(3) = 3 + addNums(2) = 3 + 2 + addNums(1) = 3 + 2 + 1 = 6\n",
    "# addNums(2) = 2 + addNums(1) = 2 + 1 = 3\n",
    "# addNums(1) = 1\n",
    "    \n",
    "    \n",
    "#Presentation Code"
   ]
  },
  {
   "cell_type": "markdown",
   "metadata": {},
   "source": [
    "#### Writing a Factorial Function"
   ]
  },
  {
   "cell_type": "code",
   "execution_count": 56,
   "metadata": {},
   "outputs": [
    {
     "data": {
      "text/plain": [
       "120"
      ]
     },
     "execution_count": 56,
     "metadata": {},
     "output_type": "execute_result"
    }
   ],
   "source": [
    "# 5! = 5 * 4 * 3 * 2 * 1 = 120\n",
    "\n",
    "#Presentation Code\n",
    "def factorial(num):\n",
    "    if num <= 1:\n",
    "        return 1\n",
    "    else:\n",
    "        return num * factorial(num-1)\n",
    "factorial(5)"
   ]
  },
  {
   "cell_type": "markdown",
   "metadata": {},
   "source": [
    "#### In-Class Exercise #5 <br>\n",
    "<p>Write a recursive function that subtracts all numbers to the argument given.</p>"
   ]
  },
  {
   "cell_type": "code",
   "execution_count": 64,
   "metadata": {},
   "outputs": [
    {
     "name": "stdout",
     "output_type": "stream",
     "text": [
      "subNums(5) = 5 - subNums(4)\n",
      "subNums(4) = 4 - subNums(3)\n",
      "subNums(3) = 3 - subNums(2)\n",
      "subNums(2) = 2 - subNums(1)\n",
      "subNums(1) = 1\n"
     ]
    },
    {
     "data": {
      "text/plain": [
       "3"
      ]
     },
     "execution_count": 64,
     "metadata": {},
     "output_type": "execute_result"
    }
   ],
   "source": [
    "# result of passing in 3 should equal 2... we're not subtracting 3 - 2 - 1, we're getting the result of 3 - subNums(2)\n",
    "# subNums(2) = 2 - subNums(1) and subNums(1) = 1, so the result is subNums(3) = 3 - 1 which is 2\n",
    "\n",
    "def subNums(num):\n",
    "    if num <= 1:\n",
    "        print(\"subNums(1) = 1\")\n",
    "        return num\n",
    "    else:\n",
    "        print(\"subNums({}) = {} - subNums({})\".format(num,num,num-1))\n",
    "        return num - subNums(num-1)\n",
    "subNums(5)        \n",
    "        \n",
    "\n"
   ]
  },
  {
   "cell_type": "markdown",
   "metadata": {},
   "source": [
    "## Generators <br>\n",
    "<p>Generators are a type of iterable, like lists or tuples. They do not allow indexing, but they can still be iterated through with for loops. They are created using functions and the yield statement.</p>"
   ]
  },
  {
   "cell_type": "markdown",
   "metadata": {},
   "source": [
    "#### Yield Keyword <br>\n",
    "<p>The yield keyword denotes a generator, it doesn't return so it won't leave the function and reset all variables in the function scope, instead it yields the number back to the caller.</p>"
   ]
  },
  {
   "cell_type": "code",
   "execution_count": 3,
   "metadata": {},
   "outputs": [
    {
     "name": "stdout",
     "output_type": "stream",
     "text": [
      "2\n",
      "3\n",
      "4\n",
      "5\n",
      "6\n",
      "7\n",
      "8\n",
      "9\n",
      "10\n",
      "11\n",
      "12\n",
      "13\n",
      "14\n",
      "15\n",
      "16\n",
      "17\n",
      "18\n",
      "19\n",
      "20\n",
      "21\n",
      "22\n",
      "23\n",
      "24\n",
      "25\n",
      "26\n",
      "27\n",
      "28\n",
      "29\n"
     ]
    }
   ],
   "source": [
    "# using a for loop\n",
    "#Presentation Code\n",
    "\n",
    "def my_range(stop, start = 0, step = 1):\n",
    "    while start < stop:\n",
    "        yield start\n",
    "        start += step\n",
    "        \n",
    "for i in my_range(30,start = 2):\n",
    "    print(i)\n",
    "    \n",
    "# for i in my_range(10, start=2):\n",
    "#     print(i)"
   ]
  },
  {
   "cell_type": "markdown",
   "metadata": {},
   "source": [
    "#### Infinite Generator"
   ]
  },
  {
   "cell_type": "code",
   "execution_count": null,
   "metadata": {},
   "outputs": [],
   "source": [
    "# bad, never create infinite loops"
   ]
  },
  {
   "cell_type": "markdown",
   "metadata": {},
   "source": [
    "#### In-Class Exercise #6 <br>\n",
    "<p>Create a generator that takes a number argument and yields that number squared, then prints each number squared until zero is reached.</p>"
   ]
  },
  {
   "cell_type": "code",
   "execution_count": 7,
   "metadata": {},
   "outputs": [
    {
     "name": "stdout",
     "output_type": "stream",
     "text": [
      "100\n",
      "81\n",
      "64\n",
      "49\n",
      "36\n",
      "25\n",
      "16\n",
      "9\n",
      "4\n",
      "1\n"
     ]
    }
   ],
   "source": [
    "# always create a base case\n",
    "\n",
    "def squared(num):\n",
    "    while num > 0:\n",
    "        yield num ** 2\n",
    "        num -= 1\n",
    "for i in squared(10):\n",
    "    print(i)"
   ]
  },
  {
   "cell_type": "markdown",
   "metadata": {},
   "source": [
    "# Exercises"
   ]
  },
  {
   "cell_type": "markdown",
   "metadata": {},
   "source": [
    "### Exercise #1 <br>\n",
    "<p>Filter out all of the empty strings from the list below</p>"
   ]
  },
  {
   "cell_type": "code",
   "execution_count": 14,
   "metadata": {},
   "outputs": [
    {
     "name": "stdout",
     "output_type": "stream",
     "text": [
      "['Argentina', 'San Diego', 'Boston', 'New York']\n"
     ]
    }
   ],
   "source": [
    "places = [\" \",\"Argentina\", \" \", \"San Diego\",\" \",\" \",\" \",\"Boston\",\"New York\"]\n",
    "\n",
    "def places_1(place):\n",
    "    if place != \" \":\n",
    "        return True\n",
    "    else:\n",
    "        return False\n",
    "    \n",
    "new_places = list(filter(places_1,places))\n",
    "print(new_places)\n"
   ]
  },
  {
   "cell_type": "markdown",
   "metadata": {},
   "source": [
    "### Exercise #2 <br>\n",
    "<p>Write an anonymous function that sorts this list by the last name...<br><b>Hint: Use the \".sort()\" method and access the key\"</b></p>"
   ]
  },
  {
   "cell_type": "code",
   "execution_count": 20,
   "metadata": {},
   "outputs": [
    {
     "data": {
      "text/plain": [
       "['Gary A.J. Bernstein',\n",
       " 'Joel Carter',\n",
       " 'Andrew P. Garfield',\n",
       " 'Victor aNisimov',\n",
       " 'David hassELHOFF']"
      ]
     },
     "execution_count": 20,
     "metadata": {},
     "output_type": "execute_result"
    }
   ],
   "source": [
    "author = [\"Joel Carter\", \"Victor aNisimov\", \"Andrew P. Garfield\",\"David hassELHOFF\",\"Gary A.J. Bernstein\"]\n",
    "\n",
    "sorted(author, key = lambda x: x.split(\" \")[-1])"
   ]
  },
  {
   "cell_type": "markdown",
   "metadata": {},
   "source": [
    "### Exercise #3 <br>\n",
    "<p>Convert the list below from Celsius to Farhenheit, using the map function with a lambda...</p>"
   ]
  },
  {
   "cell_type": "code",
   "execution_count": 32,
   "metadata": {},
   "outputs": [
    {
     "data": {
      "text/plain": [
       "[0.0, -11.11111111111111, 6.666666666666667, -1.6666666666666667]"
      ]
     },
     "execution_count": 32,
     "metadata": {},
     "output_type": "execute_result"
    }
   ],
   "source": [
    "# F = (9/5)*C + 32\n",
    "\n",
    "places = [('Nashua',32),(\"Boston\",12),(\"Los Angelos\",44),(\"Miami\",29)]\n",
    "\n",
    "Fahrenheit_List = [32, 12, 44, 29]\n",
    "\n",
    "Celsius_List_sum = list(map(lambda F: ((5.0 / 9.0) * (F - 32)), Fahrenheit_List))\n",
    "Celsius_List_sum"
   ]
  },
  {
   "cell_type": "markdown",
   "metadata": {},
   "source": [
    "### Exercise #4 <br>\n",
    "<p>Write a recursion function to perform the fibonacci sequence up to the number passed in.</p>"
   ]
  },
  {
   "cell_type": "code",
   "execution_count": 35,
   "metadata": {
    "scrolled": true
   },
   "outputs": [
    {
     "name": "stdout",
     "output_type": "stream",
     "text": [
      "fiboSeq(10) = 10 + fiboSeq(9)\n",
      "fiboSeq(9) = 9 + fiboSeq(8)\n",
      "fiboSeq(8) = 8 + fiboSeq(7)\n",
      "fiboSeq(7) = 7 + fiboSeq(6)\n",
      "fiboSeq(6) = 6 + fiboSeq(5)\n",
      "fiboSeq(5) = 5 + fiboSeq(4)\n",
      "fiboSeq(4) = 4 + fiboSeq(3)\n",
      "fiboSeq(3) = 3 + fiboSeq(2)\n",
      "fiboSeq(2) = 2 + fiboSeq(1)\n",
      "fiboSeq(1) = 1\n",
      "fiboSeq(1) = 1\n",
      "fiboSeq(1) = 1\n",
      "fiboSeq(2) = 2 + fiboSeq(1)\n",
      "fiboSeq(1) = 1\n",
      "fiboSeq(1) = 1\n",
      "fiboSeq(3) = 3 + fiboSeq(2)\n",
      "fiboSeq(2) = 2 + fiboSeq(1)\n",
      "fiboSeq(1) = 1\n",
      "fiboSeq(1) = 1\n",
      "fiboSeq(1) = 1\n",
      "fiboSeq(4) = 4 + fiboSeq(3)\n",
      "fiboSeq(3) = 3 + fiboSeq(2)\n",
      "fiboSeq(2) = 2 + fiboSeq(1)\n",
      "fiboSeq(1) = 1\n",
      "fiboSeq(1) = 1\n",
      "fiboSeq(1) = 1\n",
      "fiboSeq(2) = 2 + fiboSeq(1)\n",
      "fiboSeq(1) = 1\n",
      "fiboSeq(1) = 1\n",
      "fiboSeq(5) = 5 + fiboSeq(4)\n",
      "fiboSeq(4) = 4 + fiboSeq(3)\n",
      "fiboSeq(3) = 3 + fiboSeq(2)\n",
      "fiboSeq(2) = 2 + fiboSeq(1)\n",
      "fiboSeq(1) = 1\n",
      "fiboSeq(1) = 1\n",
      "fiboSeq(1) = 1\n",
      "fiboSeq(2) = 2 + fiboSeq(1)\n",
      "fiboSeq(1) = 1\n",
      "fiboSeq(1) = 1\n",
      "fiboSeq(3) = 3 + fiboSeq(2)\n",
      "fiboSeq(2) = 2 + fiboSeq(1)\n",
      "fiboSeq(1) = 1\n",
      "fiboSeq(1) = 1\n",
      "fiboSeq(1) = 1\n",
      "fiboSeq(6) = 6 + fiboSeq(5)\n",
      "fiboSeq(5) = 5 + fiboSeq(4)\n",
      "fiboSeq(4) = 4 + fiboSeq(3)\n",
      "fiboSeq(3) = 3 + fiboSeq(2)\n",
      "fiboSeq(2) = 2 + fiboSeq(1)\n",
      "fiboSeq(1) = 1\n",
      "fiboSeq(1) = 1\n",
      "fiboSeq(1) = 1\n",
      "fiboSeq(2) = 2 + fiboSeq(1)\n",
      "fiboSeq(1) = 1\n",
      "fiboSeq(1) = 1\n",
      "fiboSeq(3) = 3 + fiboSeq(2)\n",
      "fiboSeq(2) = 2 + fiboSeq(1)\n",
      "fiboSeq(1) = 1\n",
      "fiboSeq(1) = 1\n",
      "fiboSeq(1) = 1\n",
      "fiboSeq(4) = 4 + fiboSeq(3)\n",
      "fiboSeq(3) = 3 + fiboSeq(2)\n",
      "fiboSeq(2) = 2 + fiboSeq(1)\n",
      "fiboSeq(1) = 1\n",
      "fiboSeq(1) = 1\n",
      "fiboSeq(1) = 1\n",
      "fiboSeq(2) = 2 + fiboSeq(1)\n",
      "fiboSeq(1) = 1\n",
      "fiboSeq(1) = 1\n",
      "fiboSeq(7) = 7 + fiboSeq(6)\n",
      "fiboSeq(6) = 6 + fiboSeq(5)\n",
      "fiboSeq(5) = 5 + fiboSeq(4)\n",
      "fiboSeq(4) = 4 + fiboSeq(3)\n",
      "fiboSeq(3) = 3 + fiboSeq(2)\n",
      "fiboSeq(2) = 2 + fiboSeq(1)\n",
      "fiboSeq(1) = 1\n",
      "fiboSeq(1) = 1\n",
      "fiboSeq(1) = 1\n",
      "fiboSeq(2) = 2 + fiboSeq(1)\n",
      "fiboSeq(1) = 1\n",
      "fiboSeq(1) = 1\n",
      "fiboSeq(3) = 3 + fiboSeq(2)\n",
      "fiboSeq(2) = 2 + fiboSeq(1)\n",
      "fiboSeq(1) = 1\n",
      "fiboSeq(1) = 1\n",
      "fiboSeq(1) = 1\n",
      "fiboSeq(4) = 4 + fiboSeq(3)\n",
      "fiboSeq(3) = 3 + fiboSeq(2)\n",
      "fiboSeq(2) = 2 + fiboSeq(1)\n",
      "fiboSeq(1) = 1\n",
      "fiboSeq(1) = 1\n",
      "fiboSeq(1) = 1\n",
      "fiboSeq(2) = 2 + fiboSeq(1)\n",
      "fiboSeq(1) = 1\n",
      "fiboSeq(1) = 1\n",
      "fiboSeq(5) = 5 + fiboSeq(4)\n",
      "fiboSeq(4) = 4 + fiboSeq(3)\n",
      "fiboSeq(3) = 3 + fiboSeq(2)\n",
      "fiboSeq(2) = 2 + fiboSeq(1)\n",
      "fiboSeq(1) = 1\n",
      "fiboSeq(1) = 1\n",
      "fiboSeq(1) = 1\n",
      "fiboSeq(2) = 2 + fiboSeq(1)\n",
      "fiboSeq(1) = 1\n",
      "fiboSeq(1) = 1\n",
      "fiboSeq(3) = 3 + fiboSeq(2)\n",
      "fiboSeq(2) = 2 + fiboSeq(1)\n",
      "fiboSeq(1) = 1\n",
      "fiboSeq(1) = 1\n",
      "fiboSeq(1) = 1\n",
      "fiboSeq(8) = 8 + fiboSeq(7)\n",
      "fiboSeq(7) = 7 + fiboSeq(6)\n",
      "fiboSeq(6) = 6 + fiboSeq(5)\n",
      "fiboSeq(5) = 5 + fiboSeq(4)\n",
      "fiboSeq(4) = 4 + fiboSeq(3)\n",
      "fiboSeq(3) = 3 + fiboSeq(2)\n",
      "fiboSeq(2) = 2 + fiboSeq(1)\n",
      "fiboSeq(1) = 1\n",
      "fiboSeq(1) = 1\n",
      "fiboSeq(1) = 1\n",
      "fiboSeq(2) = 2 + fiboSeq(1)\n",
      "fiboSeq(1) = 1\n",
      "fiboSeq(1) = 1\n",
      "fiboSeq(3) = 3 + fiboSeq(2)\n",
      "fiboSeq(2) = 2 + fiboSeq(1)\n",
      "fiboSeq(1) = 1\n",
      "fiboSeq(1) = 1\n",
      "fiboSeq(1) = 1\n",
      "fiboSeq(4) = 4 + fiboSeq(3)\n",
      "fiboSeq(3) = 3 + fiboSeq(2)\n",
      "fiboSeq(2) = 2 + fiboSeq(1)\n",
      "fiboSeq(1) = 1\n",
      "fiboSeq(1) = 1\n",
      "fiboSeq(1) = 1\n",
      "fiboSeq(2) = 2 + fiboSeq(1)\n",
      "fiboSeq(1) = 1\n",
      "fiboSeq(1) = 1\n",
      "fiboSeq(5) = 5 + fiboSeq(4)\n",
      "fiboSeq(4) = 4 + fiboSeq(3)\n",
      "fiboSeq(3) = 3 + fiboSeq(2)\n",
      "fiboSeq(2) = 2 + fiboSeq(1)\n",
      "fiboSeq(1) = 1\n",
      "fiboSeq(1) = 1\n",
      "fiboSeq(1) = 1\n",
      "fiboSeq(2) = 2 + fiboSeq(1)\n",
      "fiboSeq(1) = 1\n",
      "fiboSeq(1) = 1\n",
      "fiboSeq(3) = 3 + fiboSeq(2)\n",
      "fiboSeq(2) = 2 + fiboSeq(1)\n",
      "fiboSeq(1) = 1\n",
      "fiboSeq(1) = 1\n",
      "fiboSeq(1) = 1\n",
      "fiboSeq(6) = 6 + fiboSeq(5)\n",
      "fiboSeq(5) = 5 + fiboSeq(4)\n",
      "fiboSeq(4) = 4 + fiboSeq(3)\n",
      "fiboSeq(3) = 3 + fiboSeq(2)\n",
      "fiboSeq(2) = 2 + fiboSeq(1)\n",
      "fiboSeq(1) = 1\n",
      "fiboSeq(1) = 1\n",
      "fiboSeq(1) = 1\n",
      "fiboSeq(2) = 2 + fiboSeq(1)\n",
      "fiboSeq(1) = 1\n",
      "fiboSeq(1) = 1\n",
      "fiboSeq(3) = 3 + fiboSeq(2)\n",
      "fiboSeq(2) = 2 + fiboSeq(1)\n",
      "fiboSeq(1) = 1\n",
      "fiboSeq(1) = 1\n",
      "fiboSeq(1) = 1\n",
      "fiboSeq(4) = 4 + fiboSeq(3)\n",
      "fiboSeq(3) = 3 + fiboSeq(2)\n",
      "fiboSeq(2) = 2 + fiboSeq(1)\n",
      "fiboSeq(1) = 1\n",
      "fiboSeq(1) = 1\n",
      "fiboSeq(1) = 1\n",
      "fiboSeq(2) = 2 + fiboSeq(1)\n",
      "fiboSeq(1) = 1\n",
      "fiboSeq(1) = 1\n"
     ]
    },
    {
     "data": {
      "text/plain": [
       "55"
      ]
     },
     "execution_count": 35,
     "metadata": {},
     "output_type": "execute_result"
    }
   ],
   "source": [
    "def fiboSeq(num):\n",
    "    if num <= 1:\n",
    "        print(\"fiboSeq(1) = 1\")\n",
    "        return num\n",
    "    else:\n",
    "        print(\"fiboSeq({}) = {} + fiboSeq({})\".format(num,num,num-1))\n",
    "        return (fiboSeq(num-1) + fiboSeq(num-2))\n",
    "fiboSeq(10)"
   ]
  }
 ],
 "metadata": {
  "kernelspec": {
   "display_name": "Python 3",
   "language": "python",
   "name": "python3"
  },
  "language_info": {
   "codemirror_mode": {
    "name": "ipython",
    "version": 3
   },
   "file_extension": ".py",
   "mimetype": "text/x-python",
   "name": "python",
   "nbconvert_exporter": "python",
   "pygments_lexer": "ipython3",
   "version": "3.7.3"
  }
 },
 "nbformat": 4,
 "nbformat_minor": 2
}
